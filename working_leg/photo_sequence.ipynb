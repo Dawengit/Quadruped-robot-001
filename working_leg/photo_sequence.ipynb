{
 "cells": [
  {
   "cell_type": "code",
   "execution_count": 11,
   "metadata": {},
   "outputs": [
    {
     "name": "stdout",
     "output_type": "stream",
     "text": [
      "Reading frames...\n",
      "Reading frames done.\n",
      "Done.\n"
     ]
    }
   ],
   "source": [
    "import cv2\n",
    "from PIL import Image\n",
    "\n",
    "VIDEO_FRAME_RATE = 30  # 假设视频帧率为30\n",
    "\n",
    "# 打开视频文件\n",
    "cap = cv2.VideoCapture('working_leg_video.mp4')\n",
    "\n",
    "frames = []\n",
    "count = 0\n",
    "if not cap.isOpened():\n",
    "    print(\"Error opening video file.\")\n",
    "else:\n",
    "    frames = []\n",
    "    count = 0\n",
    "    print(\"Reading frames...\")\n",
    "# 读取帧\n",
    "while cap.isOpened():\n",
    "    ret, frame = cap.read()\n",
    "    if not ret:\n",
    "        break\n",
    "    # 每隔几帧取一帧\n",
    "    if count % (VIDEO_FRAME_RATE // 3) == 0:  # 假设想要每秒取*帧\n",
    "        frames.append(frame)\n",
    "    count += 1\n",
    "    if count >= VIDEO_FRAME_RATE*20:  # 只处理前*秒的视频\n",
    "        break\n",
    "\n",
    "# 关闭视频文件\n",
    "cap.release()\n",
    "print(\"Reading frames done.\")\n",
    "\n",
    "# 将OpenCV的帧转换为PIL图片，并调整大小和透明度\n",
    "images = [Image.fromarray(cv2.cvtColor(frame, cv2.COLOR_BGR2RGB)).convert(\"RGBA\") for frame in frames]\n",
    "# show the first frame in notebook\n",
    "\n",
    "\n",
    "# 创建一个和帧大小相同的透明图层\n",
    "result = Image.new('RGBA', images[0].size, (0, 0, 0, 0))\n",
    "\n",
    "# 叠加帧，同时调整透明度\n",
    "for i, img in enumerate(images):\n",
    "    # 为每张图片设置透明度\n",
    "    img = img.copy()\n",
    "    # img.putalpha(255 - (i * 255 // len(images)))  # 等间隔设置透明度\n",
    "    img.putalpha(100)\n",
    "\n",
    "    result = Image.alpha_composite(result, img)\n",
    "\n",
    "# 将最终结果转换为RGB并保存\n",
    "result.convert('RGB').save('your_output_file2.jpg')\n",
    "print(\"Done.\")"
   ]
  }
 ],
 "metadata": {
  "kernelspec": {
   "display_name": "Python 3",
   "language": "python",
   "name": "python3"
  },
  "language_info": {
   "codemirror_mode": {
    "name": "ipython",
    "version": 3
   },
   "file_extension": ".py",
   "mimetype": "text/x-python",
   "name": "python",
   "nbconvert_exporter": "python",
   "pygments_lexer": "ipython3",
   "version": "3.11.5"
  }
 },
 "nbformat": 4,
 "nbformat_minor": 2
}
