{
 "cells": [
  {
   "cell_type": "code",
   "execution_count": 1,
   "metadata": {},
   "outputs": [
    {
     "ename": "ModuleNotFoundError",
     "evalue": "No module named 'pylx16a'",
     "output_type": "error",
     "traceback": [
      "\u001b[1;31m---------------------------------------------------------------------------\u001b[0m",
      "\u001b[1;31mModuleNotFoundError\u001b[0m                       Traceback (most recent call last)",
      "Cell \u001b[1;32mIn[1], line 2\u001b[0m\n\u001b[0;32m      1\u001b[0m \u001b[38;5;28;01mfrom\u001b[39;00m \u001b[38;5;21;01mmath\u001b[39;00m \u001b[38;5;28;01mimport\u001b[39;00m sin, cos\n\u001b[1;32m----> 2\u001b[0m \u001b[38;5;28;01mfrom\u001b[39;00m \u001b[38;5;21;01mpylx16a\u001b[39;00m\u001b[38;5;21;01m.\u001b[39;00m\u001b[38;5;21;01mlx16a\u001b[39;00m \u001b[38;5;28;01mimport\u001b[39;00m \u001b[38;5;241m*\u001b[39m\n\u001b[0;32m      4\u001b[0m \u001b[38;5;28;01mimport\u001b[39;00m \u001b[38;5;21;01mtime\u001b[39;00m\n\u001b[0;32m      6\u001b[0m LX16A\u001b[38;5;241m.\u001b[39minitialize(\u001b[38;5;124m\"\u001b[39m\u001b[38;5;124mcom3\u001b[39m\u001b[38;5;124m\"\u001b[39m, \u001b[38;5;241m0.1\u001b[39m)\n",
      "\u001b[1;31mModuleNotFoundError\u001b[0m: No module named 'pylx16a'"
     ]
    }
   ],
   "source": [
    "import time\n",
    "import math\n",
    "from pylx16a import LX16A\n",
    "from serial.tools import list_ports\n",
    "\n",
    "# Attempt to automatically find the serial port\n",
    "port = None\n",
    "for port in list_ports.comports():\n",
    "    if 'USB' in port.description:\n",
    "        port = port.device\n",
    "        break\n",
    "\n",
    "if port is None:\n",
    "    raise IOError(\"LX-16A Servo Controller not found\")\n",
    "\n",
    "# Initialize serial port connection\n",
    "LX16A.initialize(port)\n",
    "\n",
    "# Assign motor IDs\n",
    "id1 = 1\n",
    "id2 = 2\n",
    "\n",
    "try:\n",
    "    # Connect to the motors\n",
    "    servo1 = LX16A(id1)\n",
    "    servo2 = LX16A(id2)\n",
    "\n",
    "    # Print motor related information: angle, temperature, voltage\n",
    "    print(f\"Servo {id1} Angle: {servo1.get_angle()}, Temperature: {servo1.get_temp()}, Voltage: {servo1.get_voltage()}\")\n",
    "    print(f\"Servo {id2} Angle: {servo2.get_angle()}, Temperature: {servo2.get_temp()}, Voltage: {servo2.get_voltage()}\")\n",
    "\n",
    "    # Initialize motors to default starting position of 0°\n",
    "    servo1.move(0)\n",
    "    servo2.move(0)\n",
    "\n",
    "    # Set angle limits\n",
    "    servo1.set_angle_limits(0, 45)\n",
    "    servo2.set_angle_limits(0, 120)\n",
    "\n",
    "    # Use sine function for smooth control\n",
    "    for t in range(0, 360):\n",
    "        servo1.move(math.sin(math.radians(t)) * 60 + 60)\n",
    "        servo2.move(math.cos(math.radians(t)) * 60 + 60)\n",
    "        time.sleep(0.1)\n",
    "\n",
    "except LX16A.LX16AException as e:\n",
    "    # Error handling for unexpected errors (e.g., servo not responding)\n",
    "    print(f\"An error occurred: {str(e)}\")\n"
   ]
  }
 ],
 "metadata": {
  "kernelspec": {
   "display_name": "base",
   "language": "python",
   "name": "python3"
  },
  "language_info": {
   "codemirror_mode": {
    "name": "ipython",
    "version": 3
   },
   "file_extension": ".py",
   "mimetype": "text/x-python",
   "name": "python",
   "nbconvert_exporter": "python",
   "pygments_lexer": "ipython3",
   "version": "3.11.5"
  }
 },
 "nbformat": 4,
 "nbformat_minor": 2
}
